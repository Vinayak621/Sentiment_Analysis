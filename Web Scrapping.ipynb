{
 "cells": [
  {
   "cell_type": "markdown",
   "metadata": {},
   "source": [
    "# SCRAPPING CUSTOMER NAME,REVIEW AND RATING FROM AMAZON ONEPLUS NORD2 PRODUCT WEBSITE USING SELENIUM"
   ]
  },
  {
   "cell_type": "code",
   "execution_count": null,
   "metadata": {},
   "outputs": [],
   "source": [
    "from selenium import *\n",
    "from selenium import webdriver\n",
    "from selenium.webdriver.common.by import By"
   ]
  },
  {
   "cell_type": "code",
   "execution_count": null,
   "metadata": {},
   "outputs": [],
   "source": [
    "import pandas as pd"
   ]
  },
  {
   "cell_type": "code",
   "execution_count": null,
   "metadata": {},
   "outputs": [],
   "source": [
    "browser=webdriver.Chrome('C:\\\\Users\\\\VINAYAKA\\\\chromedriver.exe')"
   ]
  },
  {
   "cell_type": "markdown",
   "metadata": {},
   "source": [
    "## HERE I HAVE USED NORD2 PRODUCT'S WEBPAGE TO EXTRACT THE NAME OF THE CUSTOMERS"
   ]
  },
  {
   "cell_type": "code",
   "execution_count": 278,
   "metadata": {},
   "outputs": [],
   "source": [
    "browser.get('https://www.amazon.in/Renewed-OnePlus-Sierra-128GB-Storage/dp/B09F9S8G7H/ref=sr_1_1?keywords=nord+2&qid=1665844621&qu=eyJxc2MiOiIzLjAzIiwicXNhIjoiMi4xOCIsInFzcCI6IjIuMDYifQ%3D%3D&sr=8-1')"
   ]
  },
  {
   "cell_type": "code",
   "execution_count": 388,
   "metadata": {},
   "outputs": [],
   "source": [
    "cus_name=browser.find_elements(By.CLASS_NAME,\"a-profile-name\")"
   ]
  },
  {
   "cell_type": "code",
   "execution_count": 389,
   "metadata": {},
   "outputs": [],
   "source": [
    "names=[]\n",
    "for c in cus_name:\n",
    "    if c in cus_name ==\" \":\n",
    "        pass\n",
    "    else:\n",
    "        names.append(c.text)"
   ]
  },
  {
   "cell_type": "code",
   "execution_count": 390,
   "metadata": {},
   "outputs": [
    {
     "data": {
      "text/plain": [
       "['',\n",
       " 'akram siddique',\n",
       " 'Jyotish k.',\n",
       " 'jeetu kumar',\n",
       " 'Subho roy',\n",
       " 'Amazon Customer',\n",
       " 'YOGESH KUMAR',\n",
       " 'Santosh',\n",
       " 'Rocky Bhai']"
      ]
     },
     "execution_count": 390,
     "metadata": {},
     "output_type": "execute_result"
    }
   ],
   "source": [
    "names"
   ]
  },
  {
   "cell_type": "markdown",
   "metadata": {},
   "source": [
    "## HERE I AM FINDING THE BODY OF THE REVIEWS"
   ]
  },
  {
   "cell_type": "code",
   "execution_count": 391,
   "metadata": {},
   "outputs": [],
   "source": [
    "review=browser.find_elements(By.XPATH,\"//div[@data-hook='review-collapsed']/span[1]\")"
   ]
  },
  {
   "cell_type": "code",
   "execution_count": 392,
   "metadata": {},
   "outputs": [
    {
     "data": {
      "text/plain": [
       "[<selenium.webdriver.remote.webelement.WebElement (session=\"f9f8177c2297e68132aa77106cb6763c\", element=\"db46cfee-4c6b-4947-98cd-cb36d701d760\")>,\n",
       " <selenium.webdriver.remote.webelement.WebElement (session=\"f9f8177c2297e68132aa77106cb6763c\", element=\"0e1f6b06-0ef9-4b5e-bc3d-0dd8b98fd044\")>,\n",
       " <selenium.webdriver.remote.webelement.WebElement (session=\"f9f8177c2297e68132aa77106cb6763c\", element=\"3201384e-8fe8-40fa-852b-b62b37dcea05\")>,\n",
       " <selenium.webdriver.remote.webelement.WebElement (session=\"f9f8177c2297e68132aa77106cb6763c\", element=\"6eb43f6b-9885-4334-9d65-de25264fcfe8\")>,\n",
       " <selenium.webdriver.remote.webelement.WebElement (session=\"f9f8177c2297e68132aa77106cb6763c\", element=\"d81eb60d-660f-41a1-93c7-31c6a64cc81c\")>,\n",
       " <selenium.webdriver.remote.webelement.WebElement (session=\"f9f8177c2297e68132aa77106cb6763c\", element=\"6b33f42c-115b-469f-ab51-262272c3ec68\")>,\n",
       " <selenium.webdriver.remote.webelement.WebElement (session=\"f9f8177c2297e68132aa77106cb6763c\", element=\"2efb4b86-7085-4a91-be12-275f8cbdd89a\")>]"
      ]
     },
     "execution_count": 392,
     "metadata": {},
     "output_type": "execute_result"
    }
   ],
   "source": [
    "review"
   ]
  },
  {
   "cell_type": "code",
   "execution_count": 393,
   "metadata": {},
   "outputs": [],
   "source": [
    "reviews=[]\n",
    "for r in review:\n",
    "    reviews.append(r.text)"
   ]
  },
  {
   "cell_type": "code",
   "execution_count": 394,
   "metadata": {},
   "outputs": [
    {
     "data": {
      "text/plain": [
       "['My order phone was fold my charger was cant charge my mobile sortsurket maybe plzz replace my charge',\n",
       " 'Mobile ke sath aapko charger nahin diya jaega original duplicate koi bhi thana dega',\n",
       " 'good',\n",
       " 'Never buy amazon renewed products , I bought a one plus phone renewed, which has a scratch near front camera. Amazon, is not returning the product. Never ever buy Amazon renewed products. Actually these are second hand product Amazon selling at full price. I never thought Amazon wil be a cheater.',\n",
       " 'Good',\n",
       " 'Best',\n",
       " 'Super']"
      ]
     },
     "execution_count": 394,
     "metadata": {},
     "output_type": "execute_result"
    }
   ],
   "source": [
    "(reviews)"
   ]
  },
  {
   "cell_type": "markdown",
   "metadata": {},
   "source": [
    "## THE RATINGS OF DIFFERENT USERS"
   ]
  },
  {
   "cell_type": "code",
   "execution_count": 395,
   "metadata": {},
   "outputs": [],
   "source": [
    "rating=browser.find_elements(By.XPATH,\"//i[@data-hook='review-star-rating']/span\")"
   ]
  },
  {
   "cell_type": "code",
   "execution_count": 396,
   "metadata": {},
   "outputs": [
    {
     "data": {
      "text/plain": [
       "[<selenium.webdriver.remote.webelement.WebElement (session=\"f9f8177c2297e68132aa77106cb6763c\", element=\"0e84b640-5684-4561-9ba0-a80a6d9dc2d1\")>,\n",
       " <selenium.webdriver.remote.webelement.WebElement (session=\"f9f8177c2297e68132aa77106cb6763c\", element=\"3c853706-c555-4b26-a91f-d1d15dc9b8c8\")>,\n",
       " <selenium.webdriver.remote.webelement.WebElement (session=\"f9f8177c2297e68132aa77106cb6763c\", element=\"34bf9c03-e591-44b8-87e8-f5225788aab5\")>,\n",
       " <selenium.webdriver.remote.webelement.WebElement (session=\"f9f8177c2297e68132aa77106cb6763c\", element=\"5043d260-7fd4-48a9-b8c8-27cce8f9f4a9\")>,\n",
       " <selenium.webdriver.remote.webelement.WebElement (session=\"f9f8177c2297e68132aa77106cb6763c\", element=\"fb24770e-f62b-48be-88f9-7e51fecb8613\")>,\n",
       " <selenium.webdriver.remote.webelement.WebElement (session=\"f9f8177c2297e68132aa77106cb6763c\", element=\"7042bdde-d07c-4e5e-abc7-60c3e064f0c3\")>,\n",
       " <selenium.webdriver.remote.webelement.WebElement (session=\"f9f8177c2297e68132aa77106cb6763c\", element=\"1d3fa88b-6a6c-4a42-9272-e0e3ba23538b\")>,\n",
       " <selenium.webdriver.remote.webelement.WebElement (session=\"f9f8177c2297e68132aa77106cb6763c\", element=\"550b76bd-8201-47c5-ad65-4b4171144dab\")>]"
      ]
     },
     "execution_count": 396,
     "metadata": {},
     "output_type": "execute_result"
    }
   ],
   "source": [
    "rating"
   ]
  },
  {
   "cell_type": "code",
   "execution_count": 397,
   "metadata": {},
   "outputs": [],
   "source": [
    "all_the_ratings=[]\n",
    "for r in rating:\n",
    "    all_the_ratings.append(r.get_attribute(\"innerHTML\"))"
   ]
  },
  {
   "cell_type": "code",
   "execution_count": 398,
   "metadata": {},
   "outputs": [
    {
     "data": {
      "text/plain": [
       "['4.0 out of 5 stars',\n",
       " '3.0 out of 5 stars',\n",
       " '5.0 out of 5 stars',\n",
       " '5.0 out of 5 stars',\n",
       " '4.0 out of 5 stars',\n",
       " '5.0 out of 5 stars',\n",
       " '4.0 out of 5 stars',\n",
       " '3.0 out of 5 stars']"
      ]
     },
     "execution_count": 398,
     "metadata": {},
     "output_type": "execute_result"
    }
   ],
   "source": [
    "all_the_ratings"
   ]
  },
  {
   "cell_type": "markdown",
   "metadata": {},
   "source": [
    "## SCRAPING THE TITLE"
   ]
  },
  {
   "cell_type": "code",
   "execution_count": 399,
   "metadata": {},
   "outputs": [],
   "source": [
    "title=browser.find_elements(By.XPATH,\"//a[@data-hook='review-title'][1]\")"
   ]
  },
  {
   "cell_type": "code",
   "execution_count": 400,
   "metadata": {},
   "outputs": [
    {
     "data": {
      "text/plain": [
       "[<selenium.webdriver.remote.webelement.WebElement (session=\"f9f8177c2297e68132aa77106cb6763c\", element=\"e4f508f6-c581-4924-956a-d2d9d0ab08c5\")>,\n",
       " <selenium.webdriver.remote.webelement.WebElement (session=\"f9f8177c2297e68132aa77106cb6763c\", element=\"e1e5b5dc-d4b4-48be-b732-90fa0ae332e2\")>,\n",
       " <selenium.webdriver.remote.webelement.WebElement (session=\"f9f8177c2297e68132aa77106cb6763c\", element=\"6215d7ab-e7a4-4f62-9aa7-200c2d50f699\")>,\n",
       " <selenium.webdriver.remote.webelement.WebElement (session=\"f9f8177c2297e68132aa77106cb6763c\", element=\"5ecadd9f-113e-4c10-a9e5-19f2548d2813\")>,\n",
       " <selenium.webdriver.remote.webelement.WebElement (session=\"f9f8177c2297e68132aa77106cb6763c\", element=\"ea1e249b-6335-41b4-a000-f75129280d44\")>,\n",
       " <selenium.webdriver.remote.webelement.WebElement (session=\"f9f8177c2297e68132aa77106cb6763c\", element=\"662e42d4-52a4-4e86-8c4d-23ae1d9a82bf\")>,\n",
       " <selenium.webdriver.remote.webelement.WebElement (session=\"f9f8177c2297e68132aa77106cb6763c\", element=\"c93c82d8-210c-4472-9aee-f21f8c937f2c\")>,\n",
       " <selenium.webdriver.remote.webelement.WebElement (session=\"f9f8177c2297e68132aa77106cb6763c\", element=\"52907c90-7091-4c0b-bbf4-dcc1b6abeb10\")>]"
      ]
     },
     "execution_count": 400,
     "metadata": {},
     "output_type": "execute_result"
    }
   ],
   "source": [
    "title"
   ]
  },
  {
   "cell_type": "code",
   "execution_count": 401,
   "metadata": {},
   "outputs": [],
   "source": [
    "titles=[]\n",
    "for t in title:\n",
    "    titles.append(t.text)"
   ]
  },
  {
   "cell_type": "code",
   "execution_count": 402,
   "metadata": {},
   "outputs": [
    {
     "data": {
      "text/plain": [
       "['Charger sortcurket',\n",
       " 'Not purchase original charger is not mobile ke sath',\n",
       " 'good',\n",
       " 'Mte box mili hai',\n",
       " 'Never buy these second hand products',\n",
       " 'Good',\n",
       " 'Best',\n",
       " 'Very good 😊']"
      ]
     },
     "execution_count": 402,
     "metadata": {},
     "output_type": "execute_result"
    }
   ],
   "source": [
    "titles"
   ]
  },
  {
   "cell_type": "markdown",
   "metadata": {},
   "source": [
    "# FINAL ANSWERS"
   ]
  },
  {
   "cell_type": "code",
   "execution_count": 403,
   "metadata": {},
   "outputs": [
    {
     "name": "stdout",
     "output_type": "stream",
     "text": [
      "9\n",
      "8\n",
      "8\n",
      "7\n"
     ]
    }
   ],
   "source": [
    "print(len(names))\n",
    "print(len(titles))\n",
    "print(len(all_the_ratings))\n",
    "print(len(reviews))"
   ]
  },
  {
   "cell_type": "code",
   "execution_count": 417,
   "metadata": {},
   "outputs": [
    {
     "name": "stdout",
     "output_type": "stream",
     "text": [
      "The customer names are:\n",
      " ['', 'akram siddique', 'Jyotish k.', 'jeetu kumar', 'Subho roy', 'Amazon Customer', 'YOGESH KUMAR', 'Santosh', 'Rocky Bhai'] \n",
      "\n",
      "The title of the reviews:\n",
      " ['Charger sortcurket', 'Not purchase original charger is not mobile ke sath', 'good', 'Mte box mili hai', 'Never buy these second hand products', 'Good', 'Best', 'Very good 😊'] \n",
      "\n",
      "the ratings of the customers are:\n",
      " ['4.0 out of 5 stars', '3.0 out of 5 stars', '5.0 out of 5 stars', '5.0 out of 5 stars', '4.0 out of 5 stars', '5.0 out of 5 stars', '4.0 out of 5 stars', '3.0 out of 5 stars'] \n",
      "\n",
      "the body of the revies:\n",
      " ['My order phone was fold my charger was cant charge my mobile sortsurket maybe plzz replace my charge', 'Mobile ke sath aapko charger nahin diya jaega original duplicate koi bhi thana dega', 'good', 'Never buy amazon renewed products , I bought a one plus phone renewed, which has a scratch near front camera. Amazon, is not returning the product. Never ever buy Amazon renewed products. Actually these are second hand product Amazon selling at full price. I never thought Amazon wil be a cheater.', 'Good', 'Best', 'Super'] \n",
      "\n"
     ]
    }
   ],
   "source": [
    "print(\"The customer names are:\\n\",names,\"\\n\")\n",
    "print(\"The title of the reviews:\\n\",titles,\"\\n\")\n",
    "print(\"the ratings of the customers are:\\n\",all_the_ratings,\"\\n\")\n",
    "print(\"the body of the revies:\\n\",reviews,\"\\n\")\n"
   ]
  },
  {
   "cell_type": "code",
   "execution_count": null,
   "metadata": {},
   "outputs": [],
   "source": []
  },
  {
   "cell_type": "code",
   "execution_count": null,
   "metadata": {},
   "outputs": [],
   "source": []
  },
  {
   "cell_type": "code",
   "execution_count": null,
   "metadata": {},
   "outputs": [],
   "source": []
  }
 ],
 "metadata": {
  "kernelspec": {
   "display_name": "Python 3",
   "language": "python",
   "name": "python3"
  },
  "language_info": {
   "codemirror_mode": {
    "name": "ipython",
    "version": 3
   },
   "file_extension": ".py",
   "mimetype": "text/x-python",
   "name": "python",
   "nbconvert_exporter": "python",
   "pygments_lexer": "ipython3",
   "version": "3.7.6"
  }
 },
 "nbformat": 4,
 "nbformat_minor": 4
}
